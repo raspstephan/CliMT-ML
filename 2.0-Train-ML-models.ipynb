{
 "cells": [
  {
   "cell_type": "markdown",
   "metadata": {},
   "source": [
    "# Train ML models"
   ]
  },
  {
   "cell_type": "code",
   "execution_count": 1,
   "metadata": {},
   "outputs": [],
   "source": [
    "import pickle\n",
    "import xarray as xr\n",
    "import numpy as np\n",
    "import pickle\n",
    "import matplotlib.pyplot as plt\n",
    "import warnings\n",
    "import matplotlib\n",
    "warnings.filterwarnings(\"ignore\",category=matplotlib.MatplotlibDeprecationWarning)\n",
    "warnings.filterwarnings(\"ignore\",category=FutureWarning)\n",
    "import tensorflow.keras as keras\n",
    "from tensorflow.keras.layers import *\n",
    "from functions import *"
   ]
  },
  {
   "cell_type": "code",
   "execution_count": 2,
   "metadata": {},
   "outputs": [],
   "source": [
    "with open('./state.pkl', 'rb') as f:\n",
    "    my_state = pickle.load(f)"
   ]
  },
  {
   "cell_type": "code",
   "execution_count": 3,
   "metadata": {},
   "outputs": [],
   "source": [
    "input_vars = ['air_temperature', 'specific_humidity', 'eastward_wind', 'northward_wind', \n",
    "              'air_pressure']\n",
    "output_vars = [\n",
    "    'air_temperature_tendency_from_convection', \n",
    "    'specific_humidity_tendency_from_convection', \n",
    "    'eastward_wind_tendency_from_convection', \n",
    "    'northward_wind_tendency_from_convection',\n",
    "    'convective_precipitation_rate'\n",
    "]"
   ]
  },
  {
   "cell_type": "markdown",
   "metadata": {},
   "source": [
    "## Load the prepared data and create train/valid split"
   ]
  },
  {
   "cell_type": "code",
   "execution_count": 4,
   "metadata": {},
   "outputs": [
    {
     "name": "stdout",
     "output_type": "stream",
     "text": [
      "inputs_nn.nc\t\t\t\t norm_arrs.pkl\r\n",
      "outputs_nn.nc\t\t\t\t outputs_modified_entrainment.nc\r\n",
      "3.0-Run-ML-models-online.ipynb\t\t inputs_modified_entrainment.nc\r\n",
      "2.0-Train-ML-models.ipynb\t\t outputs_ref.nc\r\n",
      "__pycache__\t\t\t\t inputs_ref.nc\r\n",
      "functions.py\t\t\t\t nn_data.nc\r\n",
      "1.0-Reference-simulations.ipynb\t\t outputs_norm.nc\r\n",
      "1.1-Convert-data-for-ML.ipynb\t\t inputs_norm.nc\r\n",
      "nn1.h5\t\t\t\t\t outputs_old.nc\r\n",
      "stacked_outputs_modified_entrainment.nc  inputs_old.nc\r\n",
      "stacked_inputs_modified_entrainment.nc\t ref_data.nc\r\n",
      "stacked_outputs_ref.nc\t\t\t Climt.ipynb\r\n",
      "stacked_inputs_ref.nc\t\t\t state.pkl\r\n",
      "CliMT-ML.ipynb\t\t\t\t Climt-Copy1.ipynb\r\n"
     ]
    }
   ],
   "source": [
    "!ls -t"
   ]
  },
  {
   "cell_type": "code",
   "execution_count": 5,
   "metadata": {},
   "outputs": [],
   "source": [
    "stacked_inputs = xr.open_dataarray(\n",
    "    'stacked_inputs_ref.nc', chunks={'sample': 1000})\n",
    "stacked_outputs = xr.open_dataarray(\n",
    "    'stacked_outputs_ref.nc', chunks={'sample': 1000})"
   ]
  },
  {
   "cell_type": "code",
   "execution_count": 6,
   "metadata": {},
   "outputs": [],
   "source": [
    "with open('norm_arrs.pkl', 'rb') as f:\n",
    "    input_means, input_stds, output_means, output_stds = pickle.load(f)"
   ]
  },
  {
   "cell_type": "code",
   "execution_count": 7,
   "metadata": {},
   "outputs": [
    {
     "data": {
      "text/plain": [
       "(2949120, 50)"
      ]
     },
     "execution_count": 7,
     "metadata": {},
     "output_type": "execute_result"
    }
   ],
   "source": [
    "ngeo = 32*64 # Samples per time step\n",
    "stacked_inputs.shape"
   ]
  },
  {
   "cell_type": "code",
   "execution_count": 8,
   "metadata": {},
   "outputs": [
    {
     "data": {
      "text/plain": [
       "1998848"
      ]
     },
     "execution_count": 8,
     "metadata": {},
     "output_type": "execute_result"
    }
   ],
   "source": [
    "split = (2_000_000 // ngeo) * ngeo; split"
   ]
  },
  {
   "cell_type": "code",
   "execution_count": 9,
   "metadata": {},
   "outputs": [],
   "source": [
    "# Change of notation: X, Y are the inputs, outputs\n",
    "X_train = stacked_inputs[:split].values\n",
    "X_valid = stacked_inputs[split:].values\n",
    "Y_train = stacked_outputs[:split].values\n",
    "Y_valid = stacked_outputs[split:].values"
   ]
  },
  {
   "cell_type": "markdown",
   "metadata": {},
   "source": [
    "I will not subtract the mean for the outputs, they should all be centered at zero (except precip which is just a diagnostic anyway). That way an inactive convection scheme will actually be zero."
   ]
  },
  {
   "cell_type": "code",
   "execution_count": 10,
   "metadata": {},
   "outputs": [],
   "source": [
    "X_train_norm = normalize(X_train, input_means, input_stds)\n",
    "X_valid_norm = normalize(X_valid, input_means, input_stds)\n",
    "Y_train_norm = normalize(Y_train, 0, output_stds)\n",
    "Y_valid_norm = normalize(Y_valid, 0, output_stds)"
   ]
  },
  {
   "cell_type": "markdown",
   "metadata": {},
   "source": [
    "## Train a neural network"
   ]
  },
  {
   "cell_type": "markdown",
   "metadata": {},
   "source": [
    "### Build model"
   ]
  },
  {
   "cell_type": "code",
   "execution_count": 24,
   "metadata": {},
   "outputs": [],
   "source": [
    "nn = keras.models.Sequential([\n",
    "    Dense(128, input_shape=(50,), activation='elu'),\n",
    "    Dense(128, activation='elu'),\n",
    "    Dense(41)\n",
    "])"
   ]
  },
  {
   "cell_type": "code",
   "execution_count": 25,
   "metadata": {},
   "outputs": [
    {
     "name": "stdout",
     "output_type": "stream",
     "text": [
      "Model: \"sequential_1\"\n",
      "_________________________________________________________________\n",
      "Layer (type)                 Output Shape              Param #   \n",
      "=================================================================\n",
      "dense_3 (Dense)              (None, 128)               6528      \n",
      "_________________________________________________________________\n",
      "dense_4 (Dense)              (None, 128)               16512     \n",
      "_________________________________________________________________\n",
      "dense_5 (Dense)              (None, 41)                5289      \n",
      "=================================================================\n",
      "Total params: 28,329\n",
      "Trainable params: 28,329\n",
      "Non-trainable params: 0\n",
      "_________________________________________________________________\n"
     ]
    }
   ],
   "source": [
    "nn.summary()"
   ]
  },
  {
   "cell_type": "code",
   "execution_count": 26,
   "metadata": {},
   "outputs": [],
   "source": [
    "nn.compile(keras.optimizers.Adam(lr=1e-4), 'mse')"
   ]
  },
  {
   "cell_type": "markdown",
   "metadata": {},
   "source": [
    "### Train"
   ]
  },
  {
   "cell_type": "code",
   "execution_count": 29,
   "metadata": {},
   "outputs": [
    {
     "name": "stdout",
     "output_type": "stream",
     "text": [
      "Train on 1998848 samples, validate on 950272 samples\n",
      "Epoch 1/20\n",
      "1998848/1998848 [==============================] - 24s 12us/sample - loss: 0.3792 - val_loss: 0.2464\n",
      "Epoch 2/20\n",
      "1998848/1998848 [==============================] - 22s 11us/sample - loss: 0.1974 - val_loss: 0.1791\n",
      "Epoch 3/20\n",
      "1998848/1998848 [==============================] - 23s 12us/sample - loss: 0.1648 - val_loss: 0.1615\n",
      "Epoch 4/20\n",
      "1998848/1998848 [==============================] - 22s 11us/sample - loss: 0.1529 - val_loss: 0.1515\n",
      "Epoch 5/20\n",
      "1998848/1998848 [==============================] - 22s 11us/sample - loss: 0.1457 - val_loss: 0.1461\n",
      "Epoch 6/20\n",
      "1998848/1998848 [==============================] - 23s 12us/sample - loss: 0.1408 - val_loss: 0.1418\n",
      "Epoch 7/20\n",
      "1998848/1998848 [==============================] - 22s 11us/sample - loss: 0.1370 - val_loss: 0.1387\n",
      "Epoch 8/20\n",
      "1998848/1998848 [==============================] - 22s 11us/sample - loss: 0.1341 - val_loss: 0.1353\n",
      "Epoch 9/20\n",
      "1998848/1998848 [==============================] - 22s 11us/sample - loss: 0.1315 - val_loss: 0.1330\n",
      "Epoch 10/20\n",
      "1998848/1998848 [==============================] - 22s 11us/sample - loss: 0.1291 - val_loss: 0.1311\n",
      "Epoch 11/20\n",
      "1998848/1998848 [==============================] - 24s 12us/sample - loss: 0.1271 - val_loss: 0.1290\n",
      "Epoch 12/20\n",
      "1998848/1998848 [==============================] - 23s 12us/sample - loss: 0.1252 - val_loss: 0.1270\n",
      "Epoch 13/20\n",
      "1998848/1998848 [==============================] - 22s 11us/sample - loss: 0.1236 - val_loss: 0.1257\n",
      "Epoch 14/20\n",
      "1998848/1998848 [==============================] - 22s 11us/sample - loss: 0.1220 - val_loss: 0.1244\n",
      "Epoch 15/20\n",
      "1998848/1998848 [==============================] - 22s 11us/sample - loss: 0.1206 - val_loss: 0.1228\n",
      "Epoch 16/20\n",
      "1998848/1998848 [==============================] - 22s 11us/sample - loss: 0.1192 - val_loss: 0.1220\n",
      "Epoch 17/20\n",
      "1998848/1998848 [==============================] - 22s 11us/sample - loss: 0.1179 - val_loss: 0.1207\n",
      "Epoch 18/20\n",
      "1998848/1998848 [==============================] - 22s 11us/sample - loss: 0.1167 - val_loss: 0.1192\n",
      "Epoch 19/20\n",
      "1998848/1998848 [==============================] - 22s 11us/sample - loss: 0.1155 - val_loss: 0.1184\n",
      "Epoch 20/20\n",
      "1998848/1998848 [==============================] - 23s 12us/sample - loss: 0.1144 - val_loss: 0.1172\n"
     ]
    },
    {
     "data": {
      "text/plain": [
       "<tensorflow.python.keras.callbacks.History at 0x7f7ed7a26f28>"
      ]
     },
     "execution_count": 29,
     "metadata": {},
     "output_type": "execute_result"
    }
   ],
   "source": [
    "nn.fit(X_train_norm, Y_train_norm, batch_size=1024, epochs=20, \n",
    "          validation_data=(X_valid_norm, Y_valid_norm))"
   ]
  },
  {
   "cell_type": "code",
   "execution_count": 117,
   "metadata": {},
   "outputs": [],
   "source": [
    "nn.save('./nn1.h5')"
   ]
  },
  {
   "cell_type": "markdown",
   "metadata": {},
   "source": [
    "## Train a Random Forest"
   ]
  },
  {
   "cell_type": "code",
   "execution_count": 35,
   "metadata": {},
   "outputs": [],
   "source": [
    "from sklearn.ensemble import RandomForestRegressor"
   ]
  },
  {
   "cell_type": "code",
   "execution_count": 48,
   "metadata": {},
   "outputs": [],
   "source": [
    "rf = RandomForestRegressor(\n",
    "    n_estimators=10,\n",
    "    min_samples_leaf=100,\n",
    "    n_jobs=4,\n",
    "    verbose=100\n",
    ")"
   ]
  },
  {
   "cell_type": "code",
   "execution_count": null,
   "metadata": {},
   "outputs": [
    {
     "name": "stdout",
     "output_type": "stream",
     "text": [
      "[Parallel(n_jobs=4)]: Using backend ThreadingBackend with 4 concurrent workers.\n",
      "building tree 1 of 10\n",
      "building tree 2 of 10\n",
      "building tree 3 of 10\n",
      "building tree 4 of 10\n"
     ]
    }
   ],
   "source": [
    "%%time\n",
    "rf.fit(X_train, Y_train)"
   ]
  },
  {
   "cell_type": "code",
   "execution_count": 43,
   "metadata": {},
   "outputs": [],
   "source": [
    "with open('rf1.pkl', 'wb') as f:\n",
    "    pickle.dump(rf, f)"
   ]
  },
  {
   "cell_type": "markdown",
   "metadata": {},
   "source": [
    "## Offline evaluation"
   ]
  },
  {
   "cell_type": "code",
   "execution_count": 40,
   "metadata": {},
   "outputs": [],
   "source": [
    "with open('rf1.pkl', 'rb') as f:\n",
    "    rf = pickle.load(f)"
   ]
  },
  {
   "cell_type": "code",
   "execution_count": 13,
   "metadata": {
    "collapsed": true
   },
   "outputs": [
    {
     "name": "stderr",
     "output_type": "stream",
     "text": [
      "WARNING: Logging before flag parsing goes to stderr.\n",
      "W0809 04:25:42.444643 140018281256320 deprecation.py:506] From /home/rasp/.conda/envs/stephan/lib/python3.7/site-packages/tensorflow/python/ops/init_ops.py:97: calling GlorotUniform.__init__ (from tensorflow.python.ops.init_ops) with dtype is deprecated and will be removed in a future version.\n",
      "Instructions for updating:\n",
      "Call initializer instance with the dtype argument instead of passing it to the constructor\n",
      "W0809 04:25:42.447697 140018281256320 deprecation.py:506] From /home/rasp/.conda/envs/stephan/lib/python3.7/site-packages/tensorflow/python/ops/init_ops.py:1251: calling VarianceScaling.__init__ (from tensorflow.python.ops.init_ops) with dtype is deprecated and will be removed in a future version.\n",
      "Instructions for updating:\n",
      "Call initializer instance with the dtype argument instead of passing it to the constructor\n",
      "W0809 04:25:42.449457 140018281256320 deprecation.py:506] From /home/rasp/.conda/envs/stephan/lib/python3.7/site-packages/tensorflow/python/ops/init_ops.py:97: calling Zeros.__init__ (from tensorflow.python.ops.init_ops) with dtype is deprecated and will be removed in a future version.\n",
      "Instructions for updating:\n",
      "Call initializer instance with the dtype argument instead of passing it to the constructor\n"
     ]
    }
   ],
   "source": [
    "nn = keras.models.load_model('./nn1.h5')"
   ]
  },
  {
   "cell_type": "code",
   "execution_count": 14,
   "metadata": {},
   "outputs": [],
   "source": [
    "def split_predictions(Y):\n",
    "    outputs = {}\n",
    "    ntime = Y.shape[0] // ngeo\n",
    "    dims = ['time', 'lat', 'lon', 'mid_levels']\n",
    "    for i, o in enumerate(output_vars):\n",
    "        outputs[o] = xr.DataArray(\n",
    "            Y[:, i*10:(i+1)*10].reshape((ntime, 32, 64, -1)),\n",
    "            dims=dims\n",
    "        ).squeeze()\n",
    "    return xr.Dataset(outputs).transpose('time', 'mid_levels', 'lat', 'lon')"
   ]
  },
  {
   "cell_type": "code",
   "execution_count": 17,
   "metadata": {},
   "outputs": [
    {
     "data": {
      "text/plain": [
       "(950272, 41)"
      ]
     },
     "execution_count": 17,
     "metadata": {},
     "output_type": "execute_result"
    }
   ],
   "source": [
    "nn_preds = nn.predict(X_valid_norm, 10_000)\n",
    "nn_preds.shape"
   ]
  },
  {
   "cell_type": "code",
   "execution_count": 18,
   "metadata": {},
   "outputs": [],
   "source": [
    "nn_preds = split_predictions(unnormalize(nn_preds, 0, output_stds))"
   ]
  },
  {
   "cell_type": "code",
   "execution_count": 41,
   "metadata": {},
   "outputs": [],
   "source": [
    "rf_preds = ..."
   ]
  },
  {
   "cell_type": "code",
   "execution_count": 19,
   "metadata": {},
   "outputs": [],
   "source": [
    "truth = split_predictions(Y_valid)"
   ]
  },
  {
   "cell_type": "code",
   "execution_count": 20,
   "metadata": {},
   "outputs": [],
   "source": [
    "nn_error = nn_preds - truth"
   ]
  },
  {
   "cell_type": "markdown",
   "metadata": {},
   "source": [
    "### Plots"
   ]
  },
  {
   "cell_type": "code",
   "execution_count": 21,
   "metadata": {},
   "outputs": [],
   "source": [
    "def plot_comparison(var, sl=None, mean=None, std=None):\n",
    "    fig, axs = plt.subplots(1, 3, figsize=(15, 4))\n",
    "    for ds, ax in zip([nn_preds, truth, nn_error], axs):\n",
    "        if mean is not None: ds = ds.mean(mean)\n",
    "        if std is not None: ds = ds.std(std)\n",
    "        ds[var].isel(sl).plot(ax=ax)\n",
    "    plt.tight_layout()"
   ]
  },
  {
   "cell_type": "code",
   "execution_count": 22,
   "metadata": {},
   "outputs": [
    {
     "data": {
      "image/png": "[encoded data removed]",
      "text/plain": [
       "<Figure size 1080x288 with 6 Axes>"
      ]
     },
     "metadata": {
      "needs_background": "light"
     },
     "output_type": "display_data"
    }
   ],
   "source": [
    "plot_comparison(\n",
    "    'air_temperature_tendency_from_convection',\n",
    "    {'time': -1, 'lon': 0}\n",
    ")"
   ]
  },
  {
   "cell_type": "code",
   "execution_count": 23,
   "metadata": {},
   "outputs": [
    {
     "data": {
      "image/png": "[encoded data removed]",
      "text/plain": [
       "<Figure size 1080x288 with 6 Axes>"
      ]
     },
     "metadata": {
      "needs_background": "light"
     },
     "output_type": "display_data"
    }
   ],
   "source": [
    "plot_comparison(\n",
    "    'air_temperature_tendency_from_convection',\n",
    "    mean=('time', 'lon')\n",
    ")"
   ]
  },
  {
   "cell_type": "code",
   "execution_count": 24,
   "metadata": {},
   "outputs": [
    {
     "data": {
      "image/png": "[encoded data removed]",
      "text/plain": [
       "<Figure size 1080x288 with 6 Axes>"
      ]
     },
     "metadata": {
      "needs_background": "light"
     },
     "output_type": "display_data"
    }
   ],
   "source": [
    "plot_comparison(\n",
    "    'air_temperature_tendency_from_convection',\n",
    "    std=('time', 'lon')\n",
    ")"
   ]
  },
  {
   "cell_type": "markdown",
   "metadata": {},
   "source": [
    "### Compute R2\n",
    "\n"
   ]
  },
  {
   "cell_type": "code",
   "execution_count": 26,
   "metadata": {},
   "outputs": [],
   "source": [
    "tvar = ((truth - truth.mean(('time', 'lon')))**2).mean(('time', 'lon'))\n",
    "sse = (nn_error**2).mean(('time', 'lon'))\n",
    "r2 = 1-(sse/tvar)"
   ]
  },
  {
   "cell_type": "code",
   "execution_count": 33,
   "metadata": {},
   "outputs": [
    {
     "data": {
      "text/plain": [
       "<matplotlib.collections.QuadMesh at 0x7f5808759898>"
      ]
     },
     "execution_count": 33,
     "metadata": {},
     "output_type": "execute_result"
    },
    {
     "data": {
      "image/png": "[encoded data removed]",
      "text/plain": [
       "<Figure size 432x288 with 2 Axes>"
      ]
     },
     "metadata": {
      "needs_background": "light"
     },
     "output_type": "display_data"
    }
   ],
   "source": [
    "r2['air_temperature_tendency_from_convection'].plot(vmin=-1, vmax=1)"
   ]
  },
  {
   "cell_type": "code",
   "execution_count": 34,
   "metadata": {},
   "outputs": [
    {
     "data": {
      "text/plain": [
       "<matplotlib.collections.QuadMesh at 0x7f57e152ff98>"
      ]
     },
     "execution_count": 34,
     "metadata": {},
     "output_type": "execute_result"
    },
    {
     "data": {
      "image/png": "[encoded data removed]",
      "text/plain": [
       "<Figure size 432x288 with 2 Axes>"
      ]
     },
     "metadata": {
      "needs_background": "light"
     },
     "output_type": "display_data"
    }
   ],
   "source": [
    "r2['specific_humidity_tendency_from_convection'].plot(vmin=-1, vmax=1)"
   ]
  },
  {
   "cell_type": "code",
   "execution_count": null,
   "metadata": {},
   "outputs": [],
   "source": []
  }
 ],
 "metadata": {
  "kernelspec": {
   "display_name": "Python 3",
   "language": "python",
   "name": "python3"
  },
  "language_info": {
   "codemirror_mode": {
    "name": "ipython",
    "version": 3
   },
   "file_extension": ".py",
   "mimetype": "text/x-python",
   "name": "python",
   "nbconvert_exporter": "python",
   "pygments_lexer": "ipython3",
   "version": "3.7.3"
  },
  "toc": {
   "base_numbering": 1,
   "nav_menu": {},
   "number_sections": true,
   "sideBar": false,
   "skip_h1_title": true,
   "title_cell": "Table of Contents",
   "title_sidebar": "Contents",
   "toc_cell": false,
   "toc_position": {},
   "toc_section_display": true,
   "toc_window_display": false
  }
 },
 "nbformat": 4,
 "nbformat_minor": 2
}
