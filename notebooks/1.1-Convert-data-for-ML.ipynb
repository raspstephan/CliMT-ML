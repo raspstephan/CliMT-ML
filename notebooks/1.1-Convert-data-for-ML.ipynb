{
 "cells": [
  {
   "cell_type": "markdown",
   "metadata": {},
   "source": [
    "# Convert climate datasets for ML algorithms\n",
    "\n",
    "Here, we will convert the CliMT outputs to a format for ML training. Also we will create normalization files for neural network training."
   ]
  },
  {
   "cell_type": "code",
   "execution_count": 1,
   "metadata": {},
   "outputs": [],
   "source": [
    "from functions import *\n",
    "%matplotlib inline"
   ]
  },
  {
   "cell_type": "code",
   "execution_count": 2,
   "metadata": {},
   "outputs": [],
   "source": [
    "input_vars = ['air_temperature', 'specific_humidity', 'eastward_wind', 'northward_wind', \n",
    "              'air_pressure']\n",
    "output_vars = [\n",
    "    'air_temperature_tendency_from_EmanuelConvection', \n",
    "    'specific_humidity_tendency_from_EmanuelConvection', \n",
    "    'eastward_wind_tendency_from_EmanuelConvection', \n",
    "    'northward_wind_tendency_from_EmanuelConvection',\n",
    "    'convective_precipitation_rate'\n",
    "]"
   ]
  },
  {
   "cell_type": "code",
   "execution_count": 12,
   "metadata": {},
   "outputs": [],
   "source": [
    "time_slice=slice(-365*4, None)\n",
    "inputs = xr.open_mfdataset(\n",
    "    'inputs_and_kua.nc', chunks={'time': 10}, combine='by_coords'\n",
    ")[input_vars].transpose('time', 'mid_levels', 'lat', 'lon').isel(time=time_slice)\n",
    "outputs = xr.open_mfdataset(\n",
    "    'outputs_and_kua.nc', chunks={'time': 10}, combine='by_coords'\n",
    ")[output_vars].transpose('time', 'mid_levels', 'lat', 'lon').isel(time=time_slice)"
   ]
  },
  {
   "cell_type": "markdown",
   "metadata": {},
   "source": [
    "## Stack data\n",
    "\n",
    "[sample, stacked_levels]"
   ]
  },
  {
   "cell_type": "code",
   "execution_count": 7,
   "metadata": {},
   "outputs": [],
   "source": [
    "#EXPORT\n",
    "def convert_data(raw_input_fn, raw_output_fn, conv_input_fn, conv_output_fn,\n",
    "                 input_vars=input_vars, output_vars=output_vars, time_slice=slice(0, None)):\n",
    "    \"\"\"Convert raw climate model outputs to stacked arrays for neural network training\"\"\"\n",
    "    inputs = xr.open_mfdataset(\n",
    "        raw_input_fn, chunks={'time': 10}, combine='by_coords'\n",
    "    )[input_vars].transpose('time', 'mid_levels', 'lat', 'lon').isel(time=time_slice)\n",
    "    outputs = xr.open_mfdataset(\n",
    "        raw_output_fn, chunks={'time': 10}, combine='by_coords'\n",
    "    )[output_vars].transpose('time', 'mid_levels', 'lat', 'lon').isel(time=time_slice)\n",
    "    \n",
    "    inputs = xr.concat(\n",
    "        [inputs[v] for v in input_vars], dim='mid_levels'\n",
    "    ).rename('inputs')\n",
    "    outputs = xr.concat(\n",
    "        [outputs[v] for v in output_vars], dim='mid_levels'\n",
    "    ).rename('outputs')\n",
    "    \n",
    "    inputs = inputs.stack(\n",
    "        sample=('time', 'lat', 'lon')\n",
    "    ).transpose().reset_index('sample')\n",
    "    outputs = outputs.stack(\n",
    "        sample=('time', 'lat', 'lon')\n",
    "    ).transpose().reset_index('sample')\n",
    "    \n",
    "    inputs.to_netcdf(conv_input_fn)\n",
    "    outputs.to_netcdf(conv_output_fn)\n",
    "    \n",
    "    return inputs, outputs"
   ]
  },
  {
   "cell_type": "code",
   "execution_count": 11,
   "metadata": {},
   "outputs": [
    {
     "data": {
      "text/plain": [
       "(<xarray.DataArray 'inputs' (sample: 2990080, mid_levels: 50)>\n",
       " dask.array<shape=(2990080, 50), dtype=float64, chunksize=(10240, 10)>\n",
       " Coordinates:\n",
       "     time     (sample) datetime64[ns] 2000-12-31T00:30:00 ... 2004-12-29T00:30:00\n",
       "     lat      (sample) int64 0 0 0 0 0 0 0 0 0 0 ... 31 31 31 31 31 31 31 31 31\n",
       "     lon      (sample) int64 0 1 2 3 4 5 6 7 8 9 ... 55 56 57 58 59 60 61 62 63\n",
       " Dimensions without coordinates: sample, mid_levels,\n",
       " <xarray.DataArray 'outputs' (sample: 2990080, mid_levels: 41)>\n",
       " dask.array<shape=(2990080, 41), dtype=float64, chunksize=(10240, 10)>\n",
       " Coordinates:\n",
       "     time     (sample) datetime64[ns] 2000-12-31T01:00:00 ... 2004-12-29T01:00:00\n",
       "     lat      (sample) int64 0 0 0 0 0 0 0 0 0 0 ... 31 31 31 31 31 31 31 31 31\n",
       "     lon      (sample) int64 0 1 2 3 4 5 6 7 8 9 ... 55 56 57 58 59 60 61 62 63\n",
       " Dimensions without coordinates: sample, mid_levels)"
      ]
     },
     "execution_count": 11,
     "metadata": {},
     "output_type": "execute_result"
    }
   ],
   "source": [
    "convert_data(\n",
    "    'inputs_and_kua.nc', 'outputs_and_kua.nc',\n",
    "    'stacked_inputs_and_kua.nc', 'stacked_outputs_and_kua.nc',\n",
    "    time_slice=slice(-365*4, None)\n",
    ")"
   ]
  },
  {
   "cell_type": "markdown",
   "metadata": {},
   "source": [
    "## Compute normalization files\n",
    "\n",
    "To avoid weird effect from dividing by small numbers, I will compute the std for each variable over all levels and use this."
   ]
  },
  {
   "cell_type": "code",
   "execution_count": 13,
   "metadata": {},
   "outputs": [],
   "source": [
    "#EXPORT\n",
    "def compute_means_stds(ds, sampling_interval=100):\n",
    "    means = {v: ds[v].isel(time=slice(0, None, sampling_interval)).mean().values \n",
    "             for v in ds} \n",
    "    stds = {v: ds[v].isel(time=slice(0, None, sampling_interval)).std().values \n",
    "             for v in ds} \n",
    "    return means, stds"
   ]
  },
  {
   "cell_type": "code",
   "execution_count": 14,
   "metadata": {},
   "outputs": [],
   "source": [
    "def broadcast_norm(ds, stat, var):\n",
    "    arr = []\n",
    "    for v in var:\n",
    "        arr += [stat[v]] * (len(ds[v].mid_levels) if hasattr(ds[v], 'mid_levels') else 1)\n",
    "    return np.array(arr)"
   ]
  },
  {
   "cell_type": "code",
   "execution_count": 15,
   "metadata": {},
   "outputs": [],
   "source": [
    "input_means, input_stds = [broadcast_norm(inputs, stat, input_vars) \n",
    "                           for stat in compute_means_stds(inputs)]"
   ]
  },
  {
   "cell_type": "code",
   "execution_count": 16,
   "metadata": {},
   "outputs": [],
   "source": [
    "output_means, output_stds = [broadcast_norm(outputs, stat, output_vars) \n",
    "                           for stat in compute_means_stds(outputs)]"
   ]
  },
  {
   "cell_type": "code",
   "execution_count": 17,
   "metadata": {},
   "outputs": [],
   "source": [
    "with open('norm_arrs_and_kua.pkl', 'wb') as f:\n",
    "    pickle.dump((input_means, input_stds, output_means, output_stds), f)"
   ]
  },
  {
   "cell_type": "code",
   "execution_count": null,
   "metadata": {},
   "outputs": [],
   "source": []
  },
  {
   "cell_type": "code",
   "execution_count": null,
   "metadata": {},
   "outputs": [],
   "source": []
  },
  {
   "cell_type": "code",
   "execution_count": null,
   "metadata": {},
   "outputs": [],
   "source": []
  }
 ],
 "metadata": {
  "kernelspec": {
   "display_name": "Python 3",
   "language": "python",
   "name": "python3"
  },
  "language_info": {
   "codemirror_mode": {
    "name": "ipython",
    "version": 3
   },
   "file_extension": ".py",
   "mimetype": "text/x-python",
   "name": "python",
   "nbconvert_exporter": "python",
   "pygments_lexer": "ipython3",
   "version": "3.7.3"
  },
  "toc": {
   "base_numbering": 1,
   "nav_menu": {},
   "number_sections": true,
   "sideBar": false,
   "skip_h1_title": true,
   "title_cell": "Table of Contents",
   "title_sidebar": "Contents",
   "toc_cell": false,
   "toc_position": {},
   "toc_section_display": true,
   "toc_window_display": false
  }
 },
 "nbformat": 4,
 "nbformat_minor": 2
}
