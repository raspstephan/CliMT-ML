{
 "cells": [
  {
   "cell_type": "code",
   "execution_count": 2,
   "metadata": {
    "Collapsed": "false"
   },
   "outputs": [],
   "source": [
    "import xarray as xr\n",
    "import numpy as np\n",
    "from datetime import timedelta\n",
    "from functions import and_kua_sst\n",
    "import matplotlib.pyplot as plt\n",
    "%matplotlib inline\n",
    "\n",
    "import climt\n",
    "from sympl import TimeDifferencingWrapper, DataArray, NetCDFMonitor"
   ]
  },
  {
   "cell_type": "markdown",
   "metadata": {
    "Collapsed": "false"
   },
   "source": [
    "## Create the model"
   ]
  },
  {
   "cell_type": "code",
   "execution_count": 2,
   "metadata": {
    "Collapsed": "false"
   },
   "outputs": [],
   "source": [
    "simple_physics = TimeDifferencingWrapper(climt.SimplePhysics())\n",
    "convection = climt.EmanuelConvection()\n",
    "radiation = climt.GrayLongwaveRadiation()\n",
    "dycore = climt.GFSDynamicalCore([simple_physics, radiation, convection], \n",
    "                                number_of_damped_levels=2)"
   ]
  },
  {
   "cell_type": "code",
   "execution_count": 3,
   "metadata": {
    "Collapsed": "false"
   },
   "outputs": [],
   "source": [
    "grid = climt.get_grid(nx=64, ny=32, nz=10)"
   ]
  },
  {
   "cell_type": "markdown",
   "metadata": {
    "Collapsed": "false"
   },
   "source": [
    "## Create initial state"
   ]
  },
  {
   "cell_type": "code",
   "execution_count": 4,
   "metadata": {
    "Collapsed": "false"
   },
   "outputs": [],
   "source": [
    "state = climt.get_default_state([dycore], grid_state=grid)"
   ]
  },
  {
   "cell_type": "code",
   "execution_count": 5,
   "metadata": {
    "Collapsed": "false"
   },
   "outputs": [],
   "source": [
    "state['surface_temperature'] = DataArray(\n",
    "    and_kua_sst(state['latitude'].values),\n",
    "    dims=['lat', 'lon'],\n",
    "    attrs={'units': 'degK'}\n",
    ")"
   ]
  },
  {
   "cell_type": "code",
   "execution_count": 6,
   "metadata": {
    "Collapsed": "false"
   },
   "outputs": [],
   "source": [
    "state['eastward_wind'].values[:] = np.random.randn(*state['eastward_wind'].shape)"
   ]
  },
  {
   "cell_type": "markdown",
   "metadata": {
    "Collapsed": "false"
   },
   "source": [
    "## Step forward"
   ]
  },
  {
   "cell_type": "code",
   "execution_count": null,
   "metadata": {
    "Collapsed": "false"
   },
   "outputs": [],
   "source": [
    "model_time_step = timedelta(seconds=1800)\n",
    "for t in range(48*20):\n",
    "    diag, state = dycore(state, model_time_step)\n",
    "    state.update(diag)\n",
    "    state['time'] += model_time_step"
   ]
  },
  {
   "cell_type": "code",
   "execution_count": 5,
   "metadata": {
    "Collapsed": "false"
   },
   "outputs": [
    {
     "data": {
      "image/png": "[encoded data removed]",
      "text/plain": [
       "<Figure size 432x288 with 2 Axes>"
      ]
     },
     "metadata": {
      "needs_background": "light"
     },
     "output_type": "display_data"
    }
   ],
   "source": [
    "state['air_temperature'].isel(mid_levels=0).plot();"
   ]
  },
  {
   "cell_type": "code",
   "execution_count": 4,
   "metadata": {
    "Collapsed": "false"
   },
   "outputs": [],
   "source": [
    "import pickle\n",
    "with open('./state_and_kua.pkl', 'rb') as f:\n",
    "    state = pickle.load(f)"
   ]
  },
  {
   "cell_type": "markdown",
   "metadata": {
    "Collapsed": "false"
   },
   "source": [
    "## ML parameterization"
   ]
  },
  {
   "cell_type": "code",
   "execution_count": null,
   "metadata": {
    "Collapsed": "false"
   },
   "outputs": [],
   "source": [
    "class MLConvection(TendencyComponent):\n",
    "    input_properties = {\n",
    "        'air_temperature': {\n",
    "            'dims': ['*', 'mid_levels'],\n",
    "            'units': 'degK',\n",
    "        },\n",
    "        'specific_humidity': {\n",
    "            'dims': ['*', 'mid_levels'],\n",
    "            'units': 'kg/kg',\n",
    "        },\n",
    "        'eastward_wind': {\n",
    "            'dims': ['*', 'mid_levels'],\n",
    "            'units': 'm s^-1',\n",
    "        },\n",
    "        'northward_wind': {\n",
    "            'dims': ['*', 'mid_levels'],\n",
    "            'units': 'm s^-1',\n",
    "        },\n",
    "        'air_pressure': {\n",
    "            'dims': ['*', 'mid_levels'],\n",
    "            'units': 'mbar',\n",
    "        },\n",
    "    }\n",
    "    \n",
    "    diagnostic_properties = {\n",
    "        'convective_precipitation_rate': {\n",
    "            'dims': ['*'],\n",
    "            'units': 'mm day^-1',\n",
    "        }\n",
    "    }\n",
    "    \n",
    "    tendency_properties = {\n",
    "        'air_temperature': {'units': 'degK s^-1'},\n",
    "        'specific_humidity': {'units': 'kg/kg s^-1'},\n",
    "        'eastward_wind': {'units': 'm s^-2'},\n",
    "        'northward_wind': {'units': 'm s^-2'},\n",
    "    }\n",
    "    \n",
    "    def __init__(self, model, input_means=None, input_stds=None, \n",
    "                 output_means=None, output_stds=None, **kwargs):\n",
    "        self.model = model\n",
    "        self.input_means, self.input_stds, self.output_means, self.output_stds = \\\n",
    "            input_means, input_stds, output_means, output_stds\n",
    "        super().__init__(**kwargs)\n",
    "        \n",
    "    def array_call(self, state):\n",
    "        # Allocate arrays\n",
    "        tendencies = initialize_numpy_arrays_with_properties(\n",
    "            self.tendency_properties, state, self.input_properties\n",
    "        )\n",
    "        diagnostics = initialize_numpy_arrays_with_properties(\n",
    "            self.diagnostic_properties, state, self.input_properties\n",
    "        )\n",
    "        \n",
    "        # Concat input dimension\n",
    "        ncol, nz = state['air_temperature'].shape\n",
    "        input_arr = []\n",
    "        for var in input_vars:\n",
    "            input_arr.append(state[var])\n",
    "            if var == 'air_pressure': input_arr[-1] *= 100\n",
    "        input_arr = np.concatenate(input_arr, 1)\n",
    "        \n",
    "        # Normalize-predict-unnormalize\n",
    "        input_arr = normalize(input_arr, self.input_means, self.input_stds)\n",
    "        preds = self.model.predict(input_arr)\n",
    "        preds = unnormalize(preds, self.output_means, self.output_stds)\n",
    "        \n",
    "        # Split into tendencies\n",
    "        tendencies['air_temperature'] = preds[:, :nz]\n",
    "        tendencies['specific_humidity'] = preds[:, nz:nz*2]\n",
    "        tendencies['eastward_wind'] = preds[:, nz*2:nz*3]\n",
    "        tendencies['northward_wind'] = preds[:, nz*3:nz*4]\n",
    "        diagnostics['convective_precipitation_rate'] = preds[:, -1]\n",
    "        return tendencies, diagnostics"
   ]
  }
 ],
 "metadata": {
  "kernelspec": {
   "display_name": "Python 3",
   "language": "python",
   "name": "python3"
  },
  "language_info": {
   "codemirror_mode": {
    "name": "ipython",
    "version": 3
   },
   "file_extension": ".py",
   "mimetype": "text/x-python",
   "name": "python",
   "nbconvert_exporter": "python",
   "pygments_lexer": "ipython3",
   "version": "3.7.3"
  }
 },
 "nbformat": 4,
 "nbformat_minor": 4
}
